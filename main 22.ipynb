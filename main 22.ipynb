{
  "cells": [
    {
      "cell_type": "markdown",
      "metadata": {
        "toc": true,
        "id": "zSIXxxg21xPO"
      },
      "source": [
        "<h1>Table of Contents<span class=\"tocSkip\"></span></h1>\n",
        "<div class=\"toc\"><ul class=\"toc-item\"><li><span><a href=\"#Before-your-start:\" data-toc-modified-id=\"Before-your-start:-1\"><span class=\"toc-item-num\">1&nbsp;&nbsp;</span>Before your start:</a></span></li><li><span><a href=\"#Challenge-1---Import-and-Describe-the-Dataset\" data-toc-modified-id=\"Challenge-1---Import-and-Describe-the-Dataset-2\"><span class=\"toc-item-num\">2&nbsp;&nbsp;</span>Challenge 1 - Import and Describe the Dataset</a></span><ul class=\"toc-item\"><li><ul class=\"toc-item\"><li><ul class=\"toc-item\"><li><span><a href=\"#Explore-the-dataset-with-mathematical-and-visualization-techniques.-What-do-you-find?\" data-toc-modified-id=\"Explore-the-dataset-with-mathematical-and-visualization-techniques.-What-do-you-find?-2.0.0.1\"><span class=\"toc-item-num\">2.0.0.1&nbsp;&nbsp;</span>Explore the dataset with mathematical and visualization techniques. What do you find?</a></span></li></ul></li></ul></li></ul></li><li><span><a href=\"#Challenge-2---Data-Cleaning-and-Transformation\" data-toc-modified-id=\"Challenge-2---Data-Cleaning-and-Transformation-3\"><span class=\"toc-item-num\">3&nbsp;&nbsp;</span>Challenge 2 - Data Cleaning and Transformation</a></span></li><li><span><a href=\"#Challenge-3---Data-Preprocessing\" data-toc-modified-id=\"Challenge-3---Data-Preprocessing-4\"><span class=\"toc-item-num\">4&nbsp;&nbsp;</span>Challenge 3 - Data Preprocessing</a></span><ul class=\"toc-item\"><li><ul class=\"toc-item\"><li><ul class=\"toc-item\"><li><span><a href=\"#We-will-use-the-StandardScaler-from-sklearn.preprocessing-and-scale-our-data.-Read-more-about-StandardScaler-here.\" data-toc-modified-id=\"We-will-use-the-StandardScaler-from-sklearn.preprocessing-and-scale-our-data.-Read-more-about-StandardScaler-here.-4.0.0.1\"><span class=\"toc-item-num\">4.0.0.1&nbsp;&nbsp;</span>We will use the <code>StandardScaler</code> from <code>sklearn.preprocessing</code> and scale our data. Read more about <code>StandardScaler</code> <a href=\"https://scikit-learn.org/stable/modules/generated/sklearn.preprocessing.StandardScaler.html#sklearn.preprocessing.StandardScaler\" target=\"_blank\">here</a>.</a></span></li></ul></li></ul></li></ul></li><li><span><a href=\"#Challenge-4---Data-Clustering-with-K-Means\" data-toc-modified-id=\"Challenge-4---Data-Clustering-with-K-Means-5\"><span class=\"toc-item-num\">5&nbsp;&nbsp;</span>Challenge 4 - Data Clustering with K-Means</a></span></li><li><span><a href=\"#Challenge-5---Data-Clustering-with-DBSCAN\" data-toc-modified-id=\"Challenge-5---Data-Clustering-with-DBSCAN-6\"><span class=\"toc-item-num\">6&nbsp;&nbsp;</span>Challenge 5 - Data Clustering with DBSCAN</a></span></li><li><span><a href=\"#Challenge-6---Compare-K-Means-with-DBSCAN\" data-toc-modified-id=\"Challenge-6---Compare-K-Means-with-DBSCAN-7\"><span class=\"toc-item-num\">7&nbsp;&nbsp;</span>Challenge 6 - Compare K-Means with DBSCAN</a></span></li><li><span><a href=\"#Bonus-Challenge-2---Changing-K-Means-Number-of-Clusters\" data-toc-modified-id=\"Bonus-Challenge-2---Changing-K-Means-Number-of-Clusters-8\"><span class=\"toc-item-num\">8&nbsp;&nbsp;</span>Bonus Challenge 2 - Changing K-Means Number of Clusters</a></span></li><li><span><a href=\"#Bonus-Challenge-3---Changing-DBSCAN-eps-and-min_samples\" data-toc-modified-id=\"Bonus-Challenge-3---Changing-DBSCAN-eps-and-min_samples-9\"><span class=\"toc-item-num\">9&nbsp;&nbsp;</span>Bonus Challenge 3 - Changing DBSCAN <code>eps</code> and <code>min_samples</code></a></span></li></ul></div>"
      ]
    },
    {
      "cell_type": "markdown",
      "metadata": {
        "id": "mwzv_l4r1xPQ"
      },
      "source": [
        "# Before your start:\n",
        "- Read the README.md file\n",
        "- Comment as much as you can and use the resources in the README.md file\n",
        "- Happy learning!"
      ]
    },
    {
      "cell_type": "code",
      "execution_count": null,
      "metadata": {
        "id": "7aeaXSCE1xPQ"
      },
      "outputs": [],
      "source": [
        "# Import your libraries:\n",
        "\n",
        "%matplotlib inline\n",
        "\n",
        "import matplotlib.pyplot as plt\n",
        "import numpy as np\n",
        "import pandas as pd\n",
        "import seaborn as sns\n",
        "import warnings\n",
        "from sklearn.exceptions import DataConversionWarning\n",
        "warnings.filterwarnings(action='ignore', category=DataConversionWarning)"
      ]
    },
    {
      "cell_type": "markdown",
      "metadata": {
        "id": "GpY5L5-L1xPR"
      },
      "source": [
        "# Challenge 1 - Import and Describe the Dataset\n",
        "\n",
        "In this lab, we will use a dataset containing information about customer preferences. We will look at how much each customer spends in a year on each subcategory in the grocery store and try to find similarities using clustering.\n",
        "\n",
        "The origin of the dataset is [here](https://archive.ics.uci.edu/ml/datasets/wholesale+customers)."
      ]
    },
    {
      "cell_type": "code",
      "execution_count": null,
      "metadata": {
        "id": "L7YyDHMQ1xPR"
      },
      "outputs": [],
      "source": [
        "# loading the data: Wholesale customers data\n",
        "import pandas as pd\n",
        "import matplotlib.pyplot as plt\n",
        "import seaborn as sns\n",
        "\n",
        "customers = pd.read_csv(\"Wholesale customers data.csv\")\n",
        "print(customers.head())\n",
        "print(customers.describe())\n",
        "print(customers.isnull().sum())\n",
        "\n"
      ]
    },
    {
      "cell_type": "markdown",
      "metadata": {
        "id": "PtqqFPO51xPS"
      },
      "source": [
        "#### Explore the dataset with mathematical and visualization techniques. What do you find?\n",
        "\n",
        "Checklist:\n",
        "\n",
        "* What does each column mean?\n",
        "* Any categorical data to convert?\n",
        "* Any missing data to remove?\n",
        "* Column collinearity - any high correlations?\n",
        "* Descriptive statistics - any outliers to remove?\n",
        "* Column-wise data distribution - is the distribution skewed?\n",
        "* Etc.\n",
        "\n",
        "Additional info: Over a century ago, an Italian economist named Vilfredo Pareto discovered that roughly 20% of the customers account for 80% of the typical retail sales. This is called the [Pareto principle](https://en.wikipedia.org/wiki/Pareto_principle). Check if this dataset displays this characteristic."
      ]
    },
    {
      "cell_type": "code",
      "execution_count": null,
      "metadata": {
        "id": "5lxJaHQi1xPS"
      },
      "outputs": [],
      "source": [
        "# Your code here:\n",
        "plt.figure(figsize=(10, 6))\n",
        "sns.heatmap(customers.corr(), annot=True, cmap=\"coolwarm\")\n",
        "plt.title(\"Correlation Matrix\")\n",
        "plt.show()\n",
        "\n"
      ]
    },
    {
      "cell_type": "markdown",
      "metadata": {
        "id": "mgsQZT7V1xPS"
      },
      "source": [
        "**Your observations here**\n",
        "\n",
        "- ex.: Frozen, Grocery, Milk and Detergents Paper have a high...\n",
        "- ...\n",
        "\n"
      ]
    },
    {
      "cell_type": "markdown",
      "metadata": {
        "id": "SP6a3foc1xPT"
      },
      "source": [
        "# Challenge 2 - Data Cleaning and Transformation\n",
        "\n",
        "If your conclusion from the previous challenge is the data need cleaning/transformation, do it in the cells below. However, if your conclusion is the data need not be cleaned or transformed, feel free to skip this challenge. But if you do choose the latter, please provide rationale."
      ]
    },
    {
      "cell_type": "code",
      "execution_count": null,
      "metadata": {
        "id": "PADctd2O1xPT"
      },
      "outputs": [],
      "source": [
        "# Your code here\n",
        "Q1 = customers.quantile(0.25)\n",
        "Q3 = customers.quantile(0.75)\n",
        "IQR = Q3 - Q1\n",
        "clean_customers = customers[~((customers < (Q1 - 1.5 * IQR)) | (customers > (Q3 + 1.5 * IQR))).any(axis=1)]\n"
      ]
    },
    {
      "cell_type": "markdown",
      "metadata": {
        "id": "3a2COyK81xPT"
      },
      "source": [
        "**Your comment here**\n",
        "\n",
        "-  ...\n",
        "-  ..."
      ]
    },
    {
      "cell_type": "markdown",
      "metadata": {
        "id": "7KkOpg6n1xPU"
      },
      "source": [
        "# Challenge 3 - Data Preprocessing\n",
        "\n",
        "One problem with the dataset is the value ranges are remarkably different across various categories (e.g. `Fresh` and `Grocery` compared to `Detergents_Paper` and `Delicassen`). If you made this observation in the first challenge, you've done a great job! This means you not only completed the bonus questions in the previous Supervised Learning lab but also researched deep into [*feature scaling*](https://en.wikipedia.org/wiki/Feature_scaling). Keep on the good work!\n",
        "\n",
        "Diverse value ranges in different features could cause issues in our clustering. The way to reduce the problem is through feature scaling. We'll use this technique again with this dataset.\n",
        "\n",
        "#### We will use the `StandardScaler` from `sklearn.preprocessing` and scale our data. Read more about `StandardScaler` [here](https://scikit-learn.org/stable/modules/generated/sklearn.preprocessing.StandardScaler.html#sklearn.preprocessing.StandardScaler).\n",
        "\n",
        "*After scaling your data, assign the transformed data to a new variable `customers_scale`.*"
      ]
    },
    {
      "cell_type": "code",
      "execution_count": null,
      "metadata": {
        "id": "-T3-XEwV1xPU"
      },
      "outputs": [],
      "source": [
        "# Your import here:\n",
        "from sklearn.preprocessing import StandardScaler\n",
        "\n",
        "scaler = StandardScaler()\n",
        "customers_scale = scaler.fit_transform(clean_customers)\n",
        "\n"
      ]
    },
    {
      "cell_type": "markdown",
      "metadata": {
        "id": "BkqNc2mQ1xPU"
      },
      "source": [
        "# Challenge 4 - Data Clustering with K-Means\n",
        "\n",
        "Now let's cluster the data with K-Means first. Initiate the K-Means model, then fit your scaled data. In the data returned from the `.fit` method, there is an attribute called `labels_` which is the cluster number assigned to each data record. What you can do is to assign these labels back to `customers` in a new column called `customers['labels']`. Then you'll see the cluster results of the original data."
      ]
    },
    {
      "cell_type": "code",
      "execution_count": null,
      "metadata": {
        "scrolled": true,
        "id": "EPT2QQtn1xPU"
      },
      "outputs": [],
      "source": [
        "from sklearn.cluster import KMeans\n",
        "\n",
        "# Your code here:\n",
        "from sklearn.cluster import KMeans\n",
        "\n",
        "kmeans_2 = KMeans(n_clusters=2, random_state=42).fit(customers_scale)\n",
        "clusters = kmeans_2.labels_\n",
        "\n"
      ]
    },
    {
      "cell_type": "markdown",
      "metadata": {
        "id": "IUKA4wJc1xPU"
      },
      "source": [
        "### Looking to the elbow we can choose 2 like the correct number of clusters"
      ]
    },
    {
      "cell_type": "code",
      "execution_count": null,
      "metadata": {
        "id": "xcsr8GzY1xPV"
      },
      "outputs": [],
      "source": [
        "kmeans_2 = KMeans(n_clusters=2).fit(customers_scale)\n",
        "\n",
        "labels = kmeans_2.predict(customers_scale)\n",
        "\n",
        "clusters = kmeans_2.labels_.tolist()"
      ]
    },
    {
      "cell_type": "code",
      "execution_count": null,
      "metadata": {
        "id": "KhUk6EWK1xPV"
      },
      "outputs": [],
      "source": [
        "clean_customers['Label'] = clusters"
      ]
    },
    {
      "cell_type": "markdown",
      "metadata": {
        "id": "KoGWQvby1xPV"
      },
      "source": [
        "Count the values in `labels`."
      ]
    },
    {
      "cell_type": "code",
      "execution_count": null,
      "metadata": {
        "id": "6CoYA6a51xPV"
      },
      "outputs": [],
      "source": [
        "# Your code here:\n",
        "clean_customers[\"Label\"] = clusters\n",
        "print(clean_customers[\"Label\"].value_counts())"
      ]
    },
    {
      "cell_type": "markdown",
      "metadata": {
        "id": "rbD8yIbD1xPV"
      },
      "source": [
        "# Challenge 5 - Data Clustering with DBSCAN\n",
        "\n",
        "Now let's cluster the data using DBSCAN. Use `DBSCAN(eps=0.5)` to initiate the model, then fit your scaled data. In the data returned from the `.fit` method, assign the `labels_` back to `customers['labels_DBSCAN']`. Now your original data have two labels, one from K-Means and the other from DBSCAN."
      ]
    },
    {
      "cell_type": "code",
      "execution_count": null,
      "metadata": {
        "scrolled": true,
        "id": "T7KKoM3L1xPV"
      },
      "outputs": [],
      "source": [
        "from sklearn.cluster import DBSCAN\n",
        "\n",
        "# Your code here\n",
        "from sklearn.cluster import DBSCAN\n",
        "\n",
        "dbscan = DBSCAN(eps=0.5)\n",
        "dbscan_labels = dbscan.fit_predict(customers_scale)\n",
        "clean_customers[\"Label_DBSCAN\"] = dbscan_labels\n"
      ]
    },
    {
      "cell_type": "markdown",
      "metadata": {
        "id": "r969vCqs1xPW"
      },
      "source": [
        "Count the values in `labels_DBSCAN`."
      ]
    },
    {
      "cell_type": "code",
      "execution_count": null,
      "metadata": {
        "id": "bON3tXMG1xPW"
      },
      "outputs": [],
      "source": [
        "# Your code here\n",
        "print(clean_customers[\"Label_DBSCAN\"].value_counts())\n"
      ]
    },
    {
      "cell_type": "markdown",
      "metadata": {
        "id": "B106QkA-1xPW"
      },
      "source": [
        "# Challenge 6 - Compare K-Means with DBSCAN\n",
        "\n",
        "Now we want to visually compare how K-Means and DBSCAN have clustered our data. We will create scatter plots for several columns. For each of the following column pairs, plot a scatter plot using `labels` and another using `labels_DBSCAN`. Put them side by side to compare. Which clustering algorithm makes better sense?\n",
        "\n",
        "Columns to visualize:\n",
        "\n",
        "* `Detergents_Paper` as X and `Milk` as y\n",
        "* `Grocery` as X and `Fresh` as y\n",
        "* `Frozen` as X and `Delicassen` as y"
      ]
    },
    {
      "cell_type": "markdown",
      "metadata": {
        "id": "rQ6qr0AR1xPW"
      },
      "source": [
        "Visualize `Detergents_Paper` as X and `Milk` as y by `labels` and `labels_DBSCAN` respectively"
      ]
    },
    {
      "cell_type": "code",
      "execution_count": null,
      "metadata": {
        "id": "tULVWSad1xPW"
      },
      "outputs": [],
      "source": [
        "def plot(x,y,hue):\n",
        "    sns.scatterplot(x=x,\n",
        "                    y=y,\n",
        "                    hue=hue)\n",
        "    plt.title('Detergents Paper vs Milk ')\n",
        "    return plt.show();"
      ]
    },
    {
      "cell_type": "code",
      "execution_count": null,
      "metadata": {
        "id": "DQBh_jsl1xPW"
      },
      "outputs": [],
      "source": [
        "# Your code here:\n",
        "def plot_clusters(x, y, hue, title):\n",
        "    sns.scatterplot(data=clean_customers, x=x, y=y, hue=hue, palette='tab10')\n",
        "    plt.title(title)\n",
        "    plt.show()\n",
        "\n",
        "plot_clusters(\"Detergents_Paper\", \"Milk\", \"Label\", \"K-Means: Detergents_Paper vs Milk\")\n",
        "plot_clusters(\"Detergents_Paper\", \"Milk\", \"Label_DBSCAN\", \"DBSCAN: Detergents_Paper vs Milk\")\n",
        "\n",
        "\n",
        "\n",
        "\n",
        "\n"
      ]
    },
    {
      "cell_type": "markdown",
      "metadata": {
        "id": "9Uaj4CaA1xPX"
      },
      "source": [
        "Visualize `Grocery` as X and `Fresh` as y by `labels` and `labels_DBSCAN` respectively"
      ]
    },
    {
      "cell_type": "code",
      "execution_count": null,
      "metadata": {
        "id": "ujeJqVbt1xPX"
      },
      "outputs": [],
      "source": [
        "# Your code here:\n",
        "\n",
        "plot_clusters(\"Grocery\", \"Fresh\", \"Label\", \"K-Means: Grocery vs Fresh\")\n",
        "plot_clusters(\"Grocery\", \"Fresh\", \"Label_DBSCAN\", \"DBSCAN: Grocery vs Fresh\")"
      ]
    },
    {
      "cell_type": "markdown",
      "metadata": {
        "id": "0H_rZUtK1xPX"
      },
      "source": [
        "Visualize `Frozen` as X and `Delicassen` as y by `labels` and `labels_DBSCAN` respectively"
      ]
    },
    {
      "cell_type": "code",
      "execution_count": null,
      "metadata": {
        "id": "Xa5rC0hz1xPX"
      },
      "outputs": [],
      "source": [
        "# Your code here:\n",
        "plot_clusters(\"Frozen\", \"Delicassen\", \"Label\", \"K-Means: Frozen vs Delicassen\")\n",
        "plot_clusters(\"Frozen\", \"Delicassen\", \"Label_DBSCAN\", \"DBSCAN: Frozen vs Delicassen\")"
      ]
    },
    {
      "cell_type": "markdown",
      "metadata": {
        "id": "uA3DiXc71xPX"
      },
      "source": [
        "Let's use a groupby to see how the mean differs between the groups. Group `customers` by `labels` and `labels_DBSCAN` respectively and compute the means for all columns."
      ]
    },
    {
      "cell_type": "code",
      "execution_count": null,
      "metadata": {
        "id": "dbd3T20t1xPX"
      },
      "outputs": [],
      "source": [
        "# Your code here:\n",
        "print(clean_customers.groupby(\"Label\").mean())\n",
        "print(clean_customers.groupby(\"Label_DBSCAN\").mean())"
      ]
    },
    {
      "cell_type": "markdown",
      "metadata": {
        "id": "JigrFx1w1xPX"
      },
      "source": [
        "Which algorithm appears to perform better?"
      ]
    },
    {
      "cell_type": "markdown",
      "metadata": {
        "id": "2J4XVCpv1xPX"
      },
      "source": [
        "**Your observations here**\n",
        "\n",
        "-"
      ]
    },
    {
      "cell_type": "markdown",
      "metadata": {
        "id": "umFRzJMv1xPY"
      },
      "source": [
        "# Bonus Challenge 2 - Changing K-Means Number of Clusters\n",
        "\n",
        "As we mentioned earlier, we don't need to worry about the number of clusters with DBSCAN because it automatically decides that based on the parameters we send to it. But with K-Means, we have to supply the `n_clusters` param (if you don't supply `n_clusters`, the algorithm will use `8` by default). You need to know that the optimal number of clusters differs case by case based on the dataset. K-Means can perform badly if the wrong number of clusters is used.\n",
        "\n",
        "In advanced machine learning, data scientists try different numbers of clusters and evaluate the results with statistical measures (read [here](https://en.wikipedia.org/wiki/Cluster_analysis#External_evaluation)). We are not using statistical measures today but we'll use our eyes instead. In the cells below, experiment with different number of clusters and visualize with scatter plots. What number of clusters seems to work best for K-Means?"
      ]
    },
    {
      "cell_type": "code",
      "execution_count": null,
      "metadata": {
        "id": "NsASokoI1xPY"
      },
      "outputs": [],
      "source": [
        "# Your code here:"
      ]
    },
    {
      "cell_type": "markdown",
      "metadata": {
        "id": "GP_YTSct1xPY"
      },
      "source": [
        "**Your comment here**\n",
        "\n",
        "-"
      ]
    },
    {
      "cell_type": "markdown",
      "metadata": {
        "id": "W8PP6lOl1xPY"
      },
      "source": [
        "# Bonus Challenge 3 - Changing DBSCAN `eps` and `min_samples`\n",
        "\n",
        "Experiment changing the `eps` and `min_samples` params for DBSCAN. See how the results differ with scatter plot visualization."
      ]
    },
    {
      "cell_type": "code",
      "execution_count": null,
      "metadata": {
        "id": "pZlE_D371xPY"
      },
      "outputs": [],
      "source": [
        "# Your code here"
      ]
    },
    {
      "cell_type": "markdown",
      "metadata": {
        "id": "7J3QS7_z1xPZ"
      },
      "source": [
        "**Your comment here**\n",
        "\n",
        "-"
      ]
    }
  ],
  "metadata": {
    "kernelspec": {
      "display_name": "Python 3 (ipykernel)",
      "language": "python",
      "name": "python3"
    },
    "language_info": {
      "codemirror_mode": {
        "name": "ipython",
        "version": 3
      },
      "file_extension": ".py",
      "mimetype": "text/x-python",
      "name": "python",
      "nbconvert_exporter": "python",
      "pygments_lexer": "ipython3",
      "version": "3.9.12"
    },
    "toc": {
      "base_numbering": 1,
      "nav_menu": {},
      "number_sections": true,
      "sideBar": true,
      "skip_h1_title": false,
      "title_cell": "Table of Contents",
      "title_sidebar": "Contents",
      "toc_cell": true,
      "toc_position": {},
      "toc_section_display": true,
      "toc_window_display": false
    },
    "varInspector": {
      "cols": {
        "lenName": 16,
        "lenType": 16,
        "lenVar": 40
      },
      "kernels_config": {
        "python": {
          "delete_cmd_postfix": "",
          "delete_cmd_prefix": "del ",
          "library": "var_list.py",
          "varRefreshCmd": "print(var_dic_list())"
        },
        "r": {
          "delete_cmd_postfix": ") ",
          "delete_cmd_prefix": "rm(",
          "library": "var_list.r",
          "varRefreshCmd": "cat(var_dic_list()) "
        }
      },
      "types_to_exclude": [
        "module",
        "function",
        "builtin_function_or_method",
        "instance",
        "_Feature"
      ],
      "window_display": false
    },
    "colab": {
      "provenance": []
    }
  },
  "nbformat": 4,
  "nbformat_minor": 0
}